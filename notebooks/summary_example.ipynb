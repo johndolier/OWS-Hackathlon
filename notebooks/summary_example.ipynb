{
  "cells": [
    {
      "cell_type": "code",
      "execution_count": null,
      "metadata": {
        "id": "mNBGRC2k0npN"
      },
      "outputs": [],
      "source": [
        "import requests\n",
        "import warnings\n",
        "import os.path as osp\n",
        "from pathlib import Path\n",
        "\n",
        "import pandas as pd\n",
        "from langchain import PromptTemplate\n",
        "from langchain.chains.summarize import load_summarize_chain\n",
        "from langchain.schema.document import Document\n",
        "from langchain_community.llms import Ollama\n",
        "from langchain.callbacks.manager import CallbackManager\n",
        "from langchain.callbacks.streaming_stdout import StreamingStdOutCallbackHandler"
      ]
    },
    {
      "cell_type": "code",
      "execution_count": null,
      "metadata": {
        "id": "r5VmhVeV0npX",
        "outputId": "2ee34b4a-840c-4440-907e-a37377e252df"
      },
      "outputs": [
        {
          "data": {
            "text/plain": [
              "Ollama(callbacks=<langchain_core.callbacks.manager.CallbackManager object at 0x79d1513a5b10>)"
            ]
          },
          "execution_count": 2,
          "metadata": {},
          "output_type": "execute_result"
        }
      ],
      "source": [
        "llm = Ollama(model=\"llama2\", callback_manager=CallbackManager([StreamingStdOutCallbackHandler()]))\n",
        "llm"
      ]
    },
    {
      "cell_type": "code",
      "execution_count": null,
      "metadata": {
        "id": "mqHe1Z860npZ",
        "outputId": "6ec98de4-e5b5-4a20-9a2c-3ce7bc8bd039"
      },
      "outputs": [
        {
          "data": {
            "text/html": [
              "<div>\n",
              "<style scoped>\n",
              "    .dataframe tbody tr th:only-of-type {\n",
              "        vertical-align: middle;\n",
              "    }\n",
              "\n",
              "    .dataframe tbody tr th {\n",
              "        vertical-align: top;\n",
              "    }\n",
              "\n",
              "    .dataframe thead th {\n",
              "        text-align: right;\n",
              "    }\n",
              "</style>\n",
              "<table border=\"1\" class=\"dataframe\">\n",
              "  <thead>\n",
              "    <tr style=\"text-align: right;\">\n",
              "      <th></th>\n",
              "      <th>title</th>\n",
              "      <th>pubDate</th>\n",
              "      <th>guid</th>\n",
              "      <th>link</th>\n",
              "      <th>description</th>\n",
              "    </tr>\n",
              "  </thead>\n",
              "  <tbody>\n",
              "    <tr>\n",
              "      <th>0</th>\n",
              "      <td>Ukraine: Angry Zelensky vows to punish Russian...</td>\n",
              "      <td>Mon, 07 Mar 2022 08:01:56 GMT</td>\n",
              "      <td>https://www.bbc.co.uk/news/world-europe-60638042</td>\n",
              "      <td>https://www.bbc.co.uk/news/world-europe-606380...</td>\n",
              "      <td>The Ukrainian president says the country will ...</td>\n",
              "    </tr>\n",
              "    <tr>\n",
              "      <th>1</th>\n",
              "      <td>War in Ukraine: Taking cover in a town under a...</td>\n",
              "      <td>Sun, 06 Mar 2022 22:49:58 GMT</td>\n",
              "      <td>https://www.bbc.co.uk/news/world-europe-60641873</td>\n",
              "      <td>https://www.bbc.co.uk/news/world-europe-606418...</td>\n",
              "      <td>Jeremy Bowen was on the frontline in Irpin, as...</td>\n",
              "    </tr>\n",
              "    <tr>\n",
              "      <th>2</th>\n",
              "      <td>Ukraine war 'catastrophic for global food'</td>\n",
              "      <td>Mon, 07 Mar 2022 00:14:42 GMT</td>\n",
              "      <td>https://www.bbc.co.uk/news/business-60623941</td>\n",
              "      <td>https://www.bbc.co.uk/news/business-60623941?a...</td>\n",
              "      <td>One of the world's biggest fertiliser firms sa...</td>\n",
              "    </tr>\n",
              "    <tr>\n",
              "      <th>3</th>\n",
              "      <td>Manchester Arena bombing: Saffie Roussos's par...</td>\n",
              "      <td>Mon, 07 Mar 2022 00:05:40 GMT</td>\n",
              "      <td>https://www.bbc.co.uk/news/uk-60579079</td>\n",
              "      <td>https://www.bbc.co.uk/news/uk-60579079?at_medi...</td>\n",
              "      <td>The parents of the Manchester Arena bombing's ...</td>\n",
              "    </tr>\n",
              "    <tr>\n",
              "      <th>4</th>\n",
              "      <td>Ukraine conflict: Oil price soars to highest l...</td>\n",
              "      <td>Mon, 07 Mar 2022 08:15:53 GMT</td>\n",
              "      <td>https://www.bbc.co.uk/news/business-60642786</td>\n",
              "      <td>https://www.bbc.co.uk/news/business-60642786?a...</td>\n",
              "      <td>Consumers are feeling the impact of higher ene...</td>\n",
              "    </tr>\n",
              "  </tbody>\n",
              "</table>\n",
              "</div>"
            ],
            "text/plain": [
              "                                               title  \\\n",
              "0  Ukraine: Angry Zelensky vows to punish Russian...   \n",
              "1  War in Ukraine: Taking cover in a town under a...   \n",
              "2         Ukraine war 'catastrophic for global food'   \n",
              "3  Manchester Arena bombing: Saffie Roussos's par...   \n",
              "4  Ukraine conflict: Oil price soars to highest l...   \n",
              "\n",
              "                         pubDate  \\\n",
              "0  Mon, 07 Mar 2022 08:01:56 GMT   \n",
              "1  Sun, 06 Mar 2022 22:49:58 GMT   \n",
              "2  Mon, 07 Mar 2022 00:14:42 GMT   \n",
              "3  Mon, 07 Mar 2022 00:05:40 GMT   \n",
              "4  Mon, 07 Mar 2022 08:15:53 GMT   \n",
              "\n",
              "                                               guid  \\\n",
              "0  https://www.bbc.co.uk/news/world-europe-60638042   \n",
              "1  https://www.bbc.co.uk/news/world-europe-60641873   \n",
              "2      https://www.bbc.co.uk/news/business-60623941   \n",
              "3            https://www.bbc.co.uk/news/uk-60579079   \n",
              "4      https://www.bbc.co.uk/news/business-60642786   \n",
              "\n",
              "                                                link  \\\n",
              "0  https://www.bbc.co.uk/news/world-europe-606380...   \n",
              "1  https://www.bbc.co.uk/news/world-europe-606418...   \n",
              "2  https://www.bbc.co.uk/news/business-60623941?a...   \n",
              "3  https://www.bbc.co.uk/news/uk-60579079?at_medi...   \n",
              "4  https://www.bbc.co.uk/news/business-60642786?a...   \n",
              "\n",
              "                                         description  \n",
              "0  The Ukrainian president says the country will ...  \n",
              "1  Jeremy Bowen was on the frontline in Irpin, as...  \n",
              "2  One of the world's biggest fertiliser firms sa...  \n",
              "3  The parents of the Manchester Arena bombing's ...  \n",
              "4  Consumers are feeling the impact of higher ene...  "
            ]
          },
          "execution_count": 3,
          "metadata": {},
          "output_type": "execute_result"
        }
      ],
      "source": [
        "df = pd.read_csv(\"../data/bbc_news.csv\")\n",
        "df.head()"
      ]
    },
    {
      "cell_type": "code",
      "execution_count": null,
      "metadata": {
        "id": "tWn1QA0-0npc",
        "outputId": "ae8dfbcf-bd26-42c9-a9ab-1b0a577bb2d2"
      },
      "outputs": [
        {
          "data": {
            "text/plain": [
              "['The Ukrainian president says the country will not forgive or forget those who murder its civilians.',\n",
              " 'Jeremy Bowen was on the frontline in Irpin, as residents came under Russian fire while trying to flee.',\n",
              " \"One of the world's biggest fertiliser firms says the conflict could deliver a shock to food supplies.\",\n",
              " \"The parents of the Manchester Arena bombing's youngest victim speak about their life since she died.\",\n",
              " 'Consumers are feeling the impact of higher energy costs as fuel prices and household bills jump.',\n",
              " 'Boris Johnson is to meet the Canadian and Dutch PMs, as MPs debate new laws targeting oligarchs.',\n",
              " 'The home secretary says she is \"surging capacity\" as about 1% of 5,500 applications are granted.',\n",
              " 'TikTok suspends live streaming and new content from its platform, while Russians can no longer access Netflix.',\n",
              " 'Five things you need to know about the coronavirus pandemic this Monday morning.',\n",
              " 'People have been held in 53 cities, from St Petersburg in the west to Vladivostok in the east.',\n",
              " \"More than 1.5 million Ukrainians have fled the country. Here's what you need to know after day 11 of the war.\"]"
            ]
          },
          "execution_count": 4,
          "metadata": {},
          "output_type": "execute_result"
        }
      ],
      "source": [
        "documents = df.loc[:10, [\"description\"]].values.squeeze().tolist()\n",
        "documents"
      ]
    },
    {
      "cell_type": "code",
      "execution_count": null,
      "metadata": {
        "id": "L-4tMBxY0npe",
        "outputId": "a9f5c011-86f7-4a63-edb0-a327b42fd50c"
      },
      "outputs": [
        {
          "data": {
            "text/plain": [
              "[Document(page_content='The Ukrainian president says the country will not forgive or forget those who murder its civilians.'),\n",
              " Document(page_content='Jeremy Bowen was on the frontline in Irpin, as residents came under Russian fire while trying to flee.'),\n",
              " Document(page_content=\"One of the world's biggest fertiliser firms says the conflict could deliver a shock to food supplies.\"),\n",
              " Document(page_content=\"The parents of the Manchester Arena bombing's youngest victim speak about their life since she died.\"),\n",
              " Document(page_content='Consumers are feeling the impact of higher energy costs as fuel prices and household bills jump.'),\n",
              " Document(page_content='Boris Johnson is to meet the Canadian and Dutch PMs, as MPs debate new laws targeting oligarchs.'),\n",
              " Document(page_content='The home secretary says she is \"surging capacity\" as about 1% of 5,500 applications are granted.'),\n",
              " Document(page_content='TikTok suspends live streaming and new content from its platform, while Russians can no longer access Netflix.'),\n",
              " Document(page_content='Five things you need to know about the coronavirus pandemic this Monday morning.'),\n",
              " Document(page_content='People have been held in 53 cities, from St Petersburg in the west to Vladivostok in the east.'),\n",
              " Document(page_content=\"More than 1.5 million Ukrainians have fled the country. Here's what you need to know after day 11 of the war.\")]"
            ]
          },
          "execution_count": 5,
          "metadata": {},
          "output_type": "execute_result"
        }
      ],
      "source": [
        "docs = [Document(page_content=text) for text in documents]\n",
        "docs"
      ]
    },
    {
      "cell_type": "code",
      "execution_count": null,
      "metadata": {
        "id": "HUO-HmWs0npf"
      },
      "outputs": [],
      "source": [
        "map_prompt_template = \"\"\"\n",
        "                      Write a very summary of this chunk of text that includes the main points and any important details.\n",
        "                      {text}\n",
        "                      \"\"\"\n",
        "\n",
        "map_prompt = PromptTemplate(template=map_prompt_template, input_variables=[\"text\"])\n",
        "\n",
        "combine_prompt_template = \"\"\"\n",
        "                      Write a very short and concise summary of the following text delimited by triple backquotes.\n",
        "                      Return your response in bullet points which covers the key points of the text.\n",
        "                      ```{text}```\n",
        "                      BULLET POINT SUMMARY:\n",
        "                      \"\"\"\n",
        "\n",
        "combine_prompt = PromptTemplate(\n",
        "    template=combine_prompt_template, input_variables=[\"text\"]\n",
        ")"
      ]
    },
    {
      "cell_type": "code",
      "execution_count": null,
      "metadata": {
        "id": "tTPNGlFA0npi"
      },
      "outputs": [],
      "source": [
        "map_reduce_chain = load_summarize_chain(\n",
        "    llm,\n",
        "    chain_type=\"map_reduce\",\n",
        "    map_prompt=map_prompt,\n",
        "    combine_prompt=combine_prompt,\n",
        "    return_intermediate_steps=True,\n",
        ")"
      ]
    },
    {
      "cell_type": "code",
      "execution_count": null,
      "metadata": {
        "id": "7Jt-BKQn0npj",
        "outputId": "6dae91e1-d9a3-46c6-cb00-471f89e01600"
      },
      "outputs": [
        {
          "name": "stderr",
          "output_type": "stream",
          "text": [
            "/home/alex/PycharmProjects/test-llms/.venv/lib/python3.11/site-packages/langchain_core/_api/deprecation.py:119: LangChainDeprecationWarning: The method `Chain.__call__` was deprecated in langchain 0.1.0 and will be removed in 0.3.0. Use invoke instead.\n",
            "  warn_deprecated(\n"
          ]
        },
        {
          "name": "stdout",
          "output_type": "stream",
          "text": [
            "\n",
            "In a statement made by the President of Ukraine, they vowed that their country will not forgive or forget those responsible for murdering innocent civilians. This statement likely refers to the ongoing conflict between Ukrainian forces and pro-Russian separatists in eastern Ukraine, where numerous civilians have been killed or injured. The President's words suggest a strong stance against any violence or aggression towards their people, and a determination to hold accountable those who commit such heinous acts.\n",
            "In Irpin, Ukraine, residents were under fire from Russian forces while attempting to flee. Jeremy Bowen was on the frontline, providing live coverage of the situation. The main points are:\n",
            "\n",
            "1. Location: Irpin, Ukraine\n",
            "2. Situation: Residents were under fire from Russian forces while trying to flee.\n",
            "3. Frontline reporter: Jeremy Bowen was on the frontline, providing live coverage of the situation.\n",
            "The world's largest fertilizer company has warned of potential disruptions to global food supplies due to the ongoing conflict in Ukraine. The company emphasized that the conflict could have a significant impact on agricultural production and food security, particularly if it escalates or continues for an extended period of time. No further details were provided in the given text.The parents of the youngest victim of the Manchester Arena bombing, Saffie Roussos, have spoken about their life since her death in 2017. The couple, Ian and Pauline Roussos, revealed that they struggle to cope with the loss of their daughter and have had to rely on support from friends, family, and mental health professionals. They spoke about the difficulty of living without Saffie's presence and the impact her death has had on their lives. The parents also expressed their gratitude for the outpouring of support they received after the bombing and the continued help they receive from the community.\n",
            "Consumers are facing increased energy costs due to rising fuel prices and higher household bills. This is a summary of the main points:\n",
            "\n",
            "* Consumers are feeling the impact of higher energy costs\n",
            "* Fuel prices and household bills are increasing\n",
            "* The rise in energy costs is affecting consumers directly.\n",
            "Boris Johnson, the Prime Minister of the United Kingdom, will be meeting with the Prime Ministers of Canada and the Netherlands to discuss various issues. Meanwhile, members of Parliament are debating new laws aimed at targeting oligarchs. The main points of the article include:\n",
            "\n",
            "* Boris Johnson's upcoming meetings with the Canadian and Dutch PMs\n",
            "* Debates in Parliament over new laws targeting oligarchs\n",
            "* No further details were provided in the article.\n",
            "The Home Secretary has announced that only about 1% of the 5,500 applications for immigration status under the Windrush scheme have been granted, indicating a significant backlog and delay in processing these applications. This news comes as the government is facing criticism for its handling of the Windrush scandal, which has seen many Commonwealth-born individuals face difficulties in proving their right to live in the UK. The Home Secretary's statement suggests that the situation may continue to be challenging for those seeking to regularize their immigration status through the scheme.TikTok has suspended live streaming and new content on its platform, while Russian users are no longer able to access Netflix. This change was made due to the ongoing conflict between Russia and Ukraine. Sure, here's a summary of the main points and important details from the chunk of text:\n",
            "\n",
            "Five things you need to know about the coronavirus pandemic this Monday morning:\n",
            "\n",
            "1. The number of confirmed cases worldwide has surpassed 200,000, with over 80,000 cases in the United States alone.\n",
            "2. The death toll continues to rise, with over 9,000 deaths reported globally and over 1,500 deaths in the US.\n",
            "3. The World Health Organization (WHO) has declared the pandemic a global health emergency, highlighting the urgent need for international cooperation to combat the virus.\n",
            "4. Governments and health organizations are working to develop and distribute vaccines, with several countries already starting vaccination campaigns.\n",
            "5. The economic impact of the pandemic is significant, with many industries suffering due to lockdowns, travel restrictions, and supply chain disruptions.\n",
            "\n",
            "Important details:\n",
            "\n",
            "* The virus was first identified in Wuhan, China in December 2019 and has since spread rapidly around the world.\n",
            "* The WHO has recommended several measures to reduce the transmission of the virus, including social distancing, wearing masks, and frequent handwashing.\n",
            "* The pandemic has exposed weaknesses in global healthcare systems, highlighting the need for greater investment in public health infrastructure.\n",
            "* There is still much unknown about the virus, including its origin, how it spreads, and how effective different treatments are.\n",
            "In summary, people have been detained in 53 cities across Russia, stretching from St Petersburg in the west to Vladivostok in the east. This indicates a widespread crackdown on political dissent and protests, with the Russian government targeting various locations nationwide. Sure, here is a summary of the chunk of text you provided:\n",
            "\n",
            "More than 1.5 million Ukrainians have fled the country due to the ongoing war with Russia. This includes both internally displaced persons (IDPs) and those who have crossed the border into neighboring countries such as Poland, Slovakia, and Hungary. The main points of this summary are:\n",
            "\n",
            "* The number of Ukrainians who have fled the country has increased significantly since the start of the war, with over 1.5 million people now displaced.\n",
            "* Many of these displaced persons are IDPs, meaning they are still within Ukraine but have been forced to leave their homes and communities due to the conflict.\n",
            "* Others have crossed the border into neighboring countries in search of safety.\n",
            "* The exact number of refugees and IDPs is difficult to determine due to limited access to affected areas and a lack of reliable data.\n",
            "* The war has caused significant human suffering, with many people experiencing trauma, hunger, and cold.\n",
            "\n",
            "Any important details included in the text are:\n",
            "\n",
            "* The ongoing conflict between Ukraine and Russia began in February 2022 and has resulted in widespread destruction and loss of life.\n",
            "* The conflict has also had a significant impact on Ukraine's economy and infrastructure, with many homes, schools, and hospitals destroyed or damaged.\n",
            "* The international community has provided some aid to displaced persons and refugees, but more support is needed to address the humanitarian crisis."
          ]
        },
        {
          "name": "stderr",
          "output_type": "stream",
          "text": [
            "Token indices sequence length is longer than the specified maximum sequence length for this model (1457 > 1024). Running this sequence through the model will result in indexing errors\n"
          ]
        },
        {
          "name": "stdout",
          "output_type": "stream",
          "text": [
            "• In Ukraine, the President has vowed to hold accountable those responsible for killing innocent civilians in the ongoing conflict with pro-Russian separatists.\n",
            "• Residents of Irpin were under fire from Russian forces while trying to flee, and a frontline reporter was providing live coverage of the situation.\n",
            "• The world's largest fertilizer company warned of potential disruptions to global food supplies due to the conflict in Ukraine.\n",
            "• Parents of a young victim of the Manchester Arena bombing spoke about their struggle to cope with the loss of their daughter and the impact on their lives.\n",
            "• Consumers are facing increased energy costs due to rising fuel prices and higher household bills.\n",
            "• Boris Johnson will meet with the Prime Ministers of Canada and the Netherlands to discuss various issues, while members of Parliament debate new laws aimed at targeting oligarchs.\n",
            "• Only about 1% of the 5,500 applications for immigration status under the Windrush scheme have been granted, indicating a significant backlog and delay in processing these applications.\n",
            "• TikTok has suspended live streaming and new content on its platform due to the ongoing conflict between Russia and Ukraine.\n",
            "• Important details included in the text include the number of confirmed cases and deaths globally, the WHO's declaration of a global health emergency, and the economic impact of the pandemic.\n",
            "• More than 1.5 million Ukrainians have fled the country due to the war with Russia, including both IDPs and refugees who have crossed the border into neighboring countries."
          ]
        }
      ],
      "source": [
        "map_reduce_outputs = map_reduce_chain({\"input_documents\": docs})"
      ]
    },
    {
      "cell_type": "code",
      "execution_count": null,
      "metadata": {
        "id": "6Q-iOdS30npm"
      },
      "outputs": [],
      "source": [
        "final_mp_data = []\n",
        "for doc, out in zip(\n",
        "    map_reduce_outputs[\"input_documents\"], map_reduce_outputs[\"intermediate_steps\"]\n",
        "):\n",
        "    output = {}\n",
        "    output[\"text\"] = doc.page_content\n",
        "    output[\"summary\"] = out\n",
        "    final_mp_data.append(output)"
      ]
    },
    {
      "cell_type": "code",
      "execution_count": null,
      "metadata": {
        "id": "YQ69-1N20npq",
        "outputId": "575924e1-cb09-48f0-e367-e67a565fb791"
      },
      "outputs": [
        {
          "data": {
            "text/html": [
              "<div>\n",
              "<style scoped>\n",
              "    .dataframe tbody tr th:only-of-type {\n",
              "        vertical-align: middle;\n",
              "    }\n",
              "\n",
              "    .dataframe tbody tr th {\n",
              "        vertical-align: top;\n",
              "    }\n",
              "\n",
              "    .dataframe thead th {\n",
              "        text-align: right;\n",
              "    }\n",
              "</style>\n",
              "<table border=\"1\" class=\"dataframe\">\n",
              "  <thead>\n",
              "    <tr style=\"text-align: right;\">\n",
              "      <th></th>\n",
              "      <th>text</th>\n",
              "      <th>summary</th>\n",
              "    </tr>\n",
              "  </thead>\n",
              "  <tbody>\n",
              "    <tr>\n",
              "      <th>0</th>\n",
              "      <td>The Ukrainian president says the country will ...</td>\n",
              "      <td>\\nIn a statement made by the President of Ukra...</td>\n",
              "    </tr>\n",
              "    <tr>\n",
              "      <th>1</th>\n",
              "      <td>Jeremy Bowen was on the frontline in Irpin, as...</td>\n",
              "      <td>\\nIn Irpin, Ukraine, residents were under fire...</td>\n",
              "    </tr>\n",
              "    <tr>\n",
              "      <th>2</th>\n",
              "      <td>One of the world's biggest fertiliser firms sa...</td>\n",
              "      <td>\\nThe world's largest fertilizer company has w...</td>\n",
              "    </tr>\n",
              "    <tr>\n",
              "      <th>3</th>\n",
              "      <td>The parents of the Manchester Arena bombing's ...</td>\n",
              "      <td>The parents of the youngest victim of the Manc...</td>\n",
              "    </tr>\n",
              "    <tr>\n",
              "      <th>4</th>\n",
              "      <td>Consumers are feeling the impact of higher ene...</td>\n",
              "      <td>\\nConsumers are facing increased energy costs ...</td>\n",
              "    </tr>\n",
              "    <tr>\n",
              "      <th>5</th>\n",
              "      <td>Boris Johnson is to meet the Canadian and Dutc...</td>\n",
              "      <td>\\nBoris Johnson, the Prime Minister of the Uni...</td>\n",
              "    </tr>\n",
              "    <tr>\n",
              "      <th>6</th>\n",
              "      <td>The home secretary says she is \"surging capaci...</td>\n",
              "      <td>\\nThe Home Secretary has announced that only a...</td>\n",
              "    </tr>\n",
              "    <tr>\n",
              "      <th>7</th>\n",
              "      <td>TikTok suspends live streaming and new content...</td>\n",
              "      <td>TikTok has suspended live streaming and new co...</td>\n",
              "    </tr>\n",
              "    <tr>\n",
              "      <th>8</th>\n",
              "      <td>Five things you need to know about the coronav...</td>\n",
              "      <td>Sure, here's a summary of the main points and...</td>\n",
              "    </tr>\n",
              "    <tr>\n",
              "      <th>9</th>\n",
              "      <td>People have been held in 53 cities, from St Pe...</td>\n",
              "      <td>\\nIn summary, people have been detained in 53 ...</td>\n",
              "    </tr>\n",
              "    <tr>\n",
              "      <th>10</th>\n",
              "      <td>More than 1.5 million Ukrainians have fled the...</td>\n",
              "      <td>Sure, here is a summary of the chunk of text ...</td>\n",
              "    </tr>\n",
              "  </tbody>\n",
              "</table>\n",
              "</div>"
            ],
            "text/plain": [
              "                                                 text  \\\n",
              "0   The Ukrainian president says the country will ...   \n",
              "1   Jeremy Bowen was on the frontline in Irpin, as...   \n",
              "2   One of the world's biggest fertiliser firms sa...   \n",
              "3   The parents of the Manchester Arena bombing's ...   \n",
              "4   Consumers are feeling the impact of higher ene...   \n",
              "5   Boris Johnson is to meet the Canadian and Dutc...   \n",
              "6   The home secretary says she is \"surging capaci...   \n",
              "7   TikTok suspends live streaming and new content...   \n",
              "8   Five things you need to know about the coronav...   \n",
              "9   People have been held in 53 cities, from St Pe...   \n",
              "10  More than 1.5 million Ukrainians have fled the...   \n",
              "\n",
              "                                              summary  \n",
              "0   \\nIn a statement made by the President of Ukra...  \n",
              "1   \\nIn Irpin, Ukraine, residents were under fire...  \n",
              "2   \\nThe world's largest fertilizer company has w...  \n",
              "3   The parents of the youngest victim of the Manc...  \n",
              "4   \\nConsumers are facing increased energy costs ...  \n",
              "5   \\nBoris Johnson, the Prime Minister of the Uni...  \n",
              "6   \\nThe Home Secretary has announced that only a...  \n",
              "7   TikTok has suspended live streaming and new co...  \n",
              "8    Sure, here's a summary of the main points and...  \n",
              "9   \\nIn summary, people have been detained in 53 ...  \n",
              "10   Sure, here is a summary of the chunk of text ...  "
            ]
          },
          "execution_count": 11,
          "metadata": {},
          "output_type": "execute_result"
        }
      ],
      "source": [
        "pd.DataFrame.from_dict(final_mp_data)"
      ]
    },
    {
      "cell_type": "code",
      "execution_count": null,
      "metadata": {
        "id": "PinGkhaI0npu"
      },
      "outputs": [],
      "source": []
    }
  ],
  "metadata": {
    "kernelspec": {
      "display_name": "Python 3",
      "language": "python",
      "name": "python3"
    },
    "language_info": {
      "codemirror_mode": {
        "name": "ipython",
        "version": 3
      },
      "file_extension": ".py",
      "mimetype": "text/x-python",
      "name": "python",
      "nbconvert_exporter": "python",
      "pygments_lexer": "ipython3",
      "version": "3.11.9"
    },
    "colab": {
      "provenance": []
    }
  },
  "nbformat": 4,
  "nbformat_minor": 0
}